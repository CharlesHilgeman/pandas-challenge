{
 "cells": [
  {
   "cell_type": "code",
   "execution_count": 25,
   "id": "18117cda",
   "metadata": {},
   "outputs": [],
   "source": [
    "import pandas as pd"
   ]
  },
  {
   "cell_type": "code",
   "execution_count": 26,
   "id": "6f66834c",
   "metadata": {},
   "outputs": [],
   "source": [
    "school_path = 'Resources/schools_complete.csv'\n",
    "student_path = 'Resources/students_complete.csv'\n",
    "school_data = pd.read_csv(school_path)\n",
    "student_data = pd.read_csv(student_path)"
   ]
  },
  {
   "cell_type": "code",
   "execution_count": 35,
   "id": "5357d4d0",
   "metadata": {},
   "outputs": [
    {
     "data": {
      "text/html": [
       "<div>\n",
       "<style scoped>\n",
       "    .dataframe tbody tr th:only-of-type {\n",
       "        vertical-align: middle;\n",
       "    }\n",
       "\n",
       "    .dataframe tbody tr th {\n",
       "        vertical-align: top;\n",
       "    }\n",
       "\n",
       "    .dataframe thead th {\n",
       "        text-align: right;\n",
       "    }\n",
       "</style>\n",
       "<table border=\"1\" class=\"dataframe\">\n",
       "  <thead>\n",
       "    <tr style=\"text-align: right;\">\n",
       "      <th></th>\n",
       "      <th>Student ID</th>\n",
       "      <th>student_name</th>\n",
       "      <th>gender</th>\n",
       "      <th>grade</th>\n",
       "      <th>school_name</th>\n",
       "      <th>reading_score</th>\n",
       "      <th>math_score</th>\n",
       "    </tr>\n",
       "  </thead>\n",
       "  <tbody>\n",
       "    <tr>\n",
       "      <th>0</th>\n",
       "      <td>0</td>\n",
       "      <td>Paul Bradley</td>\n",
       "      <td>M</td>\n",
       "      <td>9th</td>\n",
       "      <td>Huang High School</td>\n",
       "      <td>66</td>\n",
       "      <td>79</td>\n",
       "    </tr>\n",
       "    <tr>\n",
       "      <th>1</th>\n",
       "      <td>1</td>\n",
       "      <td>Victor Smith</td>\n",
       "      <td>M</td>\n",
       "      <td>12th</td>\n",
       "      <td>Huang High School</td>\n",
       "      <td>94</td>\n",
       "      <td>61</td>\n",
       "    </tr>\n",
       "  </tbody>\n",
       "</table>\n",
       "</div>"
      ],
      "text/plain": [
       "   Student ID  student_name gender grade        school_name  reading_score  \\\n",
       "0           0  Paul Bradley      M   9th  Huang High School             66   \n",
       "1           1  Victor Smith      M  12th  Huang High School             94   \n",
       "\n",
       "   math_score  \n",
       "0          79  \n",
       "1          61  "
      ]
     },
     "execution_count": 35,
     "metadata": {},
     "output_type": "execute_result"
    }
   ],
   "source": [
    "student_data.head(2)"
   ]
  },
  {
   "cell_type": "code",
   "execution_count": 27,
   "id": "5d4e2f63",
   "metadata": {},
   "outputs": [],
   "source": [
    "school_num = school_data['school_name'].nunique()\n",
    "total_students = student_data['student_name'].nunique()\n",
    "total_budget = school_data['budget'].sum()\n",
    "avg_math_score = student_data['math_score'].mean()\n",
    "avg_read_score = student_data['reading_score'].mean()"
   ]
  },
  {
   "cell_type": "code",
   "execution_count": 46,
   "id": "5ba88bd9",
   "metadata": {},
   "outputs": [
    {
     "data": {
      "text/html": [
       "<div>\n",
       "<style scoped>\n",
       "    .dataframe tbody tr th:only-of-type {\n",
       "        vertical-align: middle;\n",
       "    }\n",
       "\n",
       "    .dataframe tbody tr th {\n",
       "        vertical-align: top;\n",
       "    }\n",
       "\n",
       "    .dataframe thead th {\n",
       "        text-align: right;\n",
       "    }\n",
       "</style>\n",
       "<table border=\"1\" class=\"dataframe\">\n",
       "  <thead>\n",
       "    <tr style=\"text-align: right;\">\n",
       "      <th></th>\n",
       "      <th>Number of Schools</th>\n",
       "      <th>Total Students</th>\n",
       "      <th>Total Budget</th>\n",
       "      <th>Average Math Score</th>\n",
       "      <th>Average Reading Score</th>\n",
       "      <th>% Passing Math</th>\n",
       "      <th>% Passing Reading</th>\n",
       "      <th>% Passing Both</th>\n",
       "    </tr>\n",
       "  </thead>\n",
       "  <tbody>\n",
       "    <tr>\n",
       "      <th>0</th>\n",
       "      <td>15</td>\n",
       "      <td>32715</td>\n",
       "      <td>$24649428</td>\n",
       "      <td>78.99%</td>\n",
       "      <td>81.88%</td>\n",
       "      <td>86.675837</td>\n",
       "      <td>99.342809</td>\n",
       "      <td>72.798411</td>\n",
       "    </tr>\n",
       "  </tbody>\n",
       "</table>\n",
       "</div>"
      ],
      "text/plain": [
       "   Number of Schools  Total Students Total Budget Average Math Score  \\\n",
       "0                 15           32715    $24649428             78.99%   \n",
       "\n",
       "  Average Reading Score  % Passing Math  % Passing Reading  % Passing Both  \n",
       "0                81.88%       86.675837          99.342809       72.798411  "
      ]
     },
     "execution_count": 46,
     "metadata": {},
     "output_type": "execute_result"
    }
   ],
   "source": [
    "data_summ = pd.DataFrame({'Number of Schools': [school_num],\n",
    "                         'Total Students': [total_students],\n",
    "                         'Total Budget': [total_budget],\n",
    "                         'Average Math Score': [avg_math_score],\n",
    "                         'Average Reading Score': [avg_read_score]})\n",
    "\n",
    "data_summ['Total Budget'] = data_summ['Total Budget'].map(\"${:}\".format)\n",
    "data_summ['Average Math Score'] = data_summ['Average Math Score'].map(\"{:.2f}%\".format)\n",
    "data_summ['Average Reading Score'] = data_summ['Average Reading Score'].map(\"{:.2f}%\".format)\n",
    "\n",
    "passing_math_df = student_data.loc[student_data['math_score'] > 70]\n",
    "passing_math = (passing_math_df['Student ID'].nunique() / total_students)*100\n",
    "\n",
    "passing_read_df = student_data.loc[student_data['reading_score'] > 70]\n",
    "passing_read = (passing_read_df['Student ID'].nunique() / total_students)*100\n",
    "\n",
    "passing_both_df = student_data.loc[(student_data['math_score'] > 70) & (student_data['reading_score'] > 70)]\n",
    "passing_both = (passing_both_df['Student ID'].nunique() / total_students)*100\n",
    "\n",
    "data_summ['% Passing Math'] = passing_math\n",
    "data_summ['% Passing Reading'] = passing_read\n",
    "data_summ['% Passing Both'] = passing_both\n",
    "data_summ"
   ]
  },
  {
   "cell_type": "code",
   "execution_count": null,
   "id": "d2078c97",
   "metadata": {},
   "outputs": [],
   "source": []
  }
 ],
 "metadata": {
  "kernelspec": {
   "display_name": "Python [conda env:root] *",
   "language": "python",
   "name": "conda-root-py"
  },
  "language_info": {
   "codemirror_mode": {
    "name": "ipython",
    "version": 3
   },
   "file_extension": ".py",
   "mimetype": "text/x-python",
   "name": "python",
   "nbconvert_exporter": "python",
   "pygments_lexer": "ipython3",
   "version": "3.8.8"
  }
 },
 "nbformat": 4,
 "nbformat_minor": 5
}
